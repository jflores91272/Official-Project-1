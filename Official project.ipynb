{
 "cells": [
  {
   "cell_type": "markdown",
   "metadata": {},
   "source": [
    "# Final Project Submission\n",
    "\n",
    "\n",
    "Jonathan Flores\n",
    "\n",
    "Full time\n",
    "\n",
    "May 12, 2023\n",
    "\n",
    "Instructors:Praveen Gowtham & Brendan Hutchinson"
   ]
  },
  {
   "cell_type": "markdown",
   "metadata": {},
   "source": [
    "# Phase 1 Final Project"
   ]
  },
  {
   "cell_type": "markdown",
   "metadata": {},
   "source": [
    "# Overview"
   ]
  },
  {
   "cell_type": "markdown",
   "metadata": {},
   "source": [
    "For this Projects I used exploritory data analysis to generate insights for the bussiness stakeholders "
   ]
  },
  {
   "cell_type": "markdown",
   "metadata": {},
   "source": [
    "# Business Problem"
   ]
  },
  {
   "cell_type": "markdown",
   "metadata": {},
   "source": [
    "Mircosoft wants to enter into the film industry to create original conetent but they dont know any data driven way to create a viable plan to achieve box office succes. "
   ]
  },
  {
   "cell_type": "markdown",
   "metadata": {},
   "source": [
    "# Data"
   ]
  },
  {
   "cell_type": "markdown",
   "metadata": {},
   "source": [
    "The data that was derived to create these insights are from IMDB, Box Office Mojo and TheMovieDB, as well as data from the Numbers website(A24 Data that was collected using an API platform)."
   ]
  },
  {
   "cell_type": "markdown",
   "metadata": {},
   "source": [
    "# Methods"
   ]
  },
  {
   "cell_type": "markdown",
   "metadata": {},
   "source": [
    "This project uses exploratory data analysis tools such as deriving data using an api, data cleaning large sets of csv files after converting them into dataframes and uses matplotblyb and seaborn to visualize any patterns/findings that were made. "
   ]
  },
  {
   "cell_type": "markdown",
   "metadata": {},
   "source": [
    "# Data Understanding"
   ]
  },
  {
   "cell_type": "markdown",
   "metadata": {},
   "source": [
    "By using mutlple datasets where budgets, box office gross numbers are displayed, profit margins can be derived and show how absorbing a studio as the main branch of exporting movies is the ideal approach to the issue of entering a new industry. The data files and types can be broken down to compare visualy compare the findings and show how aquiring A24 is a viable option. "
   ]
  },
  {
   "cell_type": "code",
   "execution_count": 68,
   "metadata": {},
   "outputs": [],
   "source": [
    "import pandas as pd\n",
    "import numpy as np"
   ]
  },
  {
   "cell_type": "code",
   "execution_count": 81,
   "metadata": {
    "scrolled": true
   },
   "outputs": [
    {
     "data": {
      "text/html": [
       "<div>\n",
       "<style scoped>\n",
       "    .dataframe tbody tr th:only-of-type {\n",
       "        vertical-align: middle;\n",
       "    }\n",
       "\n",
       "    .dataframe tbody tr th {\n",
       "        vertical-align: top;\n",
       "    }\n",
       "\n",
       "    .dataframe thead th {\n",
       "        text-align: right;\n",
       "    }\n",
       "</style>\n",
       "<table border=\"1\" class=\"dataframe\">\n",
       "  <thead>\n",
       "    <tr style=\"text-align: right;\">\n",
       "      <th></th>\n",
       "      <th>Unnamed: 0</th>\n",
       "      <th>genre_ids</th>\n",
       "      <th>id</th>\n",
       "      <th>original_language</th>\n",
       "      <th>original_title</th>\n",
       "      <th>popularity</th>\n",
       "      <th>release_date</th>\n",
       "      <th>title</th>\n",
       "      <th>vote_average</th>\n",
       "      <th>vote_count</th>\n",
       "    </tr>\n",
       "  </thead>\n",
       "  <tbody>\n",
       "    <tr>\n",
       "      <th>0</th>\n",
       "      <td>0</td>\n",
       "      <td>[12, 14, 10751]</td>\n",
       "      <td>12444</td>\n",
       "      <td>en</td>\n",
       "      <td>Harry Potter and the Deathly Hallows: Part 1</td>\n",
       "      <td>33.533</td>\n",
       "      <td>2010-11-19</td>\n",
       "      <td>Harry Potter and the Deathly Hallows: Part 1</td>\n",
       "      <td>7.7</td>\n",
       "      <td>10788</td>\n",
       "    </tr>\n",
       "    <tr>\n",
       "      <th>1</th>\n",
       "      <td>1</td>\n",
       "      <td>[14, 12, 16, 10751]</td>\n",
       "      <td>10191</td>\n",
       "      <td>en</td>\n",
       "      <td>How to Train Your Dragon</td>\n",
       "      <td>28.734</td>\n",
       "      <td>2010-03-26</td>\n",
       "      <td>How to Train Your Dragon</td>\n",
       "      <td>7.7</td>\n",
       "      <td>7610</td>\n",
       "    </tr>\n",
       "    <tr>\n",
       "      <th>2</th>\n",
       "      <td>2</td>\n",
       "      <td>[12, 28, 878]</td>\n",
       "      <td>10138</td>\n",
       "      <td>en</td>\n",
       "      <td>Iron Man 2</td>\n",
       "      <td>28.515</td>\n",
       "      <td>2010-05-07</td>\n",
       "      <td>Iron Man 2</td>\n",
       "      <td>6.8</td>\n",
       "      <td>12368</td>\n",
       "    </tr>\n",
       "    <tr>\n",
       "      <th>3</th>\n",
       "      <td>3</td>\n",
       "      <td>[16, 35, 10751]</td>\n",
       "      <td>862</td>\n",
       "      <td>en</td>\n",
       "      <td>Toy Story</td>\n",
       "      <td>28.005</td>\n",
       "      <td>1995-11-22</td>\n",
       "      <td>Toy Story</td>\n",
       "      <td>7.9</td>\n",
       "      <td>10174</td>\n",
       "    </tr>\n",
       "    <tr>\n",
       "      <th>4</th>\n",
       "      <td>4</td>\n",
       "      <td>[28, 878, 12]</td>\n",
       "      <td>27205</td>\n",
       "      <td>en</td>\n",
       "      <td>Inception</td>\n",
       "      <td>27.920</td>\n",
       "      <td>2010-07-16</td>\n",
       "      <td>Inception</td>\n",
       "      <td>8.3</td>\n",
       "      <td>22186</td>\n",
       "    </tr>\n",
       "  </tbody>\n",
       "</table>\n",
       "</div>"
      ],
      "text/plain": [
       "   Unnamed: 0            genre_ids     id original_language  \\\n",
       "0           0      [12, 14, 10751]  12444                en   \n",
       "1           1  [14, 12, 16, 10751]  10191                en   \n",
       "2           2        [12, 28, 878]  10138                en   \n",
       "3           3      [16, 35, 10751]    862                en   \n",
       "4           4        [28, 878, 12]  27205                en   \n",
       "\n",
       "                                 original_title  popularity release_date  \\\n",
       "0  Harry Potter and the Deathly Hallows: Part 1      33.533   2010-11-19   \n",
       "1                      How to Train Your Dragon      28.734   2010-03-26   \n",
       "2                                    Iron Man 2      28.515   2010-05-07   \n",
       "3                                     Toy Story      28.005   1995-11-22   \n",
       "4                                     Inception      27.920   2010-07-16   \n",
       "\n",
       "                                          title  vote_average  vote_count  \n",
       "0  Harry Potter and the Deathly Hallows: Part 1           7.7       10788  \n",
       "1                      How to Train Your Dragon           7.7        7610  \n",
       "2                                    Iron Man 2           6.8       12368  \n",
       "3                                     Toy Story           7.9       10174  \n",
       "4                                     Inception           8.3       22186  "
      ]
     },
     "execution_count": 81,
     "metadata": {},
     "output_type": "execute_result"
    }
   ],
   "source": [
    "#this dataframe was used to get most liked genres in IMDB to get the highest rated genre  \n",
    "df1=pd.read_csv(r'/Users/jonathanflores/Documents/Flatiron/Gitted_project/zippedData/tmdb.movies.csv')\n",
    "df1.head()"
   ]
  },
  {
   "cell_type": "code",
   "execution_count": 80,
   "metadata": {
    "scrolled": true
   },
   "outputs": [
    {
     "data": {
      "text/html": [
       "<div>\n",
       "<style scoped>\n",
       "    .dataframe tbody tr th:only-of-type {\n",
       "        vertical-align: middle;\n",
       "    }\n",
       "\n",
       "    .dataframe tbody tr th {\n",
       "        vertical-align: top;\n",
       "    }\n",
       "\n",
       "    .dataframe thead th {\n",
       "        text-align: right;\n",
       "    }\n",
       "</style>\n",
       "<table border=\"1\" class=\"dataframe\">\n",
       "  <thead>\n",
       "    <tr style=\"text-align: right;\">\n",
       "      <th></th>\n",
       "      <th>id</th>\n",
       "      <th>release_date</th>\n",
       "      <th>movie</th>\n",
       "      <th>production_budget</th>\n",
       "      <th>domestic_gross</th>\n",
       "      <th>worldwide_gross</th>\n",
       "    </tr>\n",
       "  </thead>\n",
       "  <tbody>\n",
       "    <tr>\n",
       "      <th>0</th>\n",
       "      <td>1</td>\n",
       "      <td>Dec 18, 2009</td>\n",
       "      <td>Avatar</td>\n",
       "      <td>$425,000,000</td>\n",
       "      <td>$760,507,625</td>\n",
       "      <td>$2,776,345,279</td>\n",
       "    </tr>\n",
       "    <tr>\n",
       "      <th>1</th>\n",
       "      <td>2</td>\n",
       "      <td>May 20, 2011</td>\n",
       "      <td>Pirates of the Caribbean: On Stranger Tides</td>\n",
       "      <td>$410,600,000</td>\n",
       "      <td>$241,063,875</td>\n",
       "      <td>$1,045,663,875</td>\n",
       "    </tr>\n",
       "    <tr>\n",
       "      <th>2</th>\n",
       "      <td>3</td>\n",
       "      <td>Jun 7, 2019</td>\n",
       "      <td>Dark Phoenix</td>\n",
       "      <td>$350,000,000</td>\n",
       "      <td>$42,762,350</td>\n",
       "      <td>$149,762,350</td>\n",
       "    </tr>\n",
       "    <tr>\n",
       "      <th>3</th>\n",
       "      <td>4</td>\n",
       "      <td>May 1, 2015</td>\n",
       "      <td>Avengers: Age of Ultron</td>\n",
       "      <td>$330,600,000</td>\n",
       "      <td>$459,005,868</td>\n",
       "      <td>$1,403,013,963</td>\n",
       "    </tr>\n",
       "    <tr>\n",
       "      <th>4</th>\n",
       "      <td>5</td>\n",
       "      <td>Dec 15, 2017</td>\n",
       "      <td>Star Wars Ep. VIII: The Last Jedi</td>\n",
       "      <td>$317,000,000</td>\n",
       "      <td>$620,181,382</td>\n",
       "      <td>$1,316,721,747</td>\n",
       "    </tr>\n",
       "  </tbody>\n",
       "</table>\n",
       "</div>"
      ],
      "text/plain": [
       "   id  release_date                                        movie  \\\n",
       "0   1  Dec 18, 2009                                       Avatar   \n",
       "1   2  May 20, 2011  Pirates of the Caribbean: On Stranger Tides   \n",
       "2   3   Jun 7, 2019                                 Dark Phoenix   \n",
       "3   4   May 1, 2015                      Avengers: Age of Ultron   \n",
       "4   5  Dec 15, 2017            Star Wars Ep. VIII: The Last Jedi   \n",
       "\n",
       "  production_budget domestic_gross worldwide_gross  \n",
       "0      $425,000,000   $760,507,625  $2,776,345,279  \n",
       "1      $410,600,000   $241,063,875  $1,045,663,875  \n",
       "2      $350,000,000    $42,762,350    $149,762,350  \n",
       "3      $330,600,000   $459,005,868  $1,403,013,963  \n",
       "4      $317,000,000   $620,181,382  $1,316,721,747  "
      ]
     },
     "execution_count": 80,
     "metadata": {},
     "output_type": "execute_result"
    }
   ],
   "source": [
    "#this data set was used to find the highest profit margin for the top 16 grossing movies of all time \n",
    "df2=df = pd.read_csv(r'/Users/jonathanflores/Documents/Flatiron/Gitted_project/zippedData/tn.movie_budgets.csv')\n",
    "df2.head()"
   ]
  },
  {
   "cell_type": "code",
   "execution_count": 110,
   "metadata": {},
   "outputs": [
    {
     "data": {
      "text/html": [
       "<div>\n",
       "<style scoped>\n",
       "    .dataframe tbody tr th:only-of-type {\n",
       "        vertical-align: middle;\n",
       "    }\n",
       "\n",
       "    .dataframe tbody tr th {\n",
       "        vertical-align: top;\n",
       "    }\n",
       "\n",
       "    .dataframe thead th {\n",
       "        text-align: right;\n",
       "    }\n",
       "</style>\n",
       "<table border=\"1\" class=\"dataframe\">\n",
       "  <thead>\n",
       "    <tr style=\"text-align: right;\">\n",
       "      <th></th>\n",
       "      <th>Unnamed: 0</th>\n",
       "      <th>title</th>\n",
       "      <th>Directed by</th>\n",
       "      <th>Written by</th>\n",
       "      <th>Produced by</th>\n",
       "      <th>Starring</th>\n",
       "      <th>Cinematography</th>\n",
       "      <th>Edited by</th>\n",
       "      <th>Music by</th>\n",
       "      <th>Production companies</th>\n",
       "      <th>...</th>\n",
       "      <th>Language</th>\n",
       "      <th>Running time (int)</th>\n",
       "      <th>Budget (float)</th>\n",
       "      <th>Box office (float)</th>\n",
       "      <th>Release dates (datetime)</th>\n",
       "      <th>imdb</th>\n",
       "      <th>metascore</th>\n",
       "      <th>rotten_tomatoes</th>\n",
       "      <th>Screenplay by</th>\n",
       "      <th>Based on</th>\n",
       "    </tr>\n",
       "  </thead>\n",
       "  <tbody>\n",
       "    <tr>\n",
       "      <th>0</th>\n",
       "      <td>0</td>\n",
       "      <td>A Glimpse Inside the Mind of Charles Swan III</td>\n",
       "      <td>Roman Coppola</td>\n",
       "      <td>Roman Coppola</td>\n",
       "      <td>['Roman Coppola', 'Youree Henley']</td>\n",
       "      <td>['Charlie Sheen', 'Katheryn Winnick', 'Bill Mu...</td>\n",
       "      <td>Nick Beal</td>\n",
       "      <td>Robert Schafer</td>\n",
       "      <td>['Liam Hayes', 'Roger Neill']</td>\n",
       "      <td>['American Zoetrope', 'The Directors Bureau']</td>\n",
       "      <td>...</td>\n",
       "      <td>English</td>\n",
       "      <td>86.0</td>\n",
       "      <td>NaN</td>\n",
       "      <td>210565.0</td>\n",
       "      <td>2012-11-15</td>\n",
       "      <td>4.6</td>\n",
       "      <td>28.0</td>\n",
       "      <td>16%</td>\n",
       "      <td>NaN</td>\n",
       "      <td>NaN</td>\n",
       "    </tr>\n",
       "    <tr>\n",
       "      <th>1</th>\n",
       "      <td>1</td>\n",
       "      <td>Ginger &amp; Rosa</td>\n",
       "      <td>Sally Potter</td>\n",
       "      <td>Sally Potter</td>\n",
       "      <td>['Christopher Sheppard', 'Andrew Litvin']</td>\n",
       "      <td>['Elle Fanning', 'Alice Englert', 'Alessandro ...</td>\n",
       "      <td>Robbie Ryan</td>\n",
       "      <td>Anders Refn</td>\n",
       "      <td>NaN</td>\n",
       "      <td>['British Film Institute', 'BBC Films', 'Adven...</td>\n",
       "      <td>...</td>\n",
       "      <td>English</td>\n",
       "      <td>90.0</td>\n",
       "      <td>NaN</td>\n",
       "      <td>1700000.0</td>\n",
       "      <td>2012-09-07</td>\n",
       "      <td>6.2</td>\n",
       "      <td>69.0</td>\n",
       "      <td>78%</td>\n",
       "      <td>NaN</td>\n",
       "      <td>NaN</td>\n",
       "    </tr>\n",
       "    <tr>\n",
       "      <th>2</th>\n",
       "      <td>2</td>\n",
       "      <td>Spring Breakers</td>\n",
       "      <td>Harmony Korine</td>\n",
       "      <td>Harmony Korine</td>\n",
       "      <td>['Chris Hanley', 'Jordan Gertner', 'David Zand...</td>\n",
       "      <td>['James Franco', 'Selena Gomez', 'Vanessa Hudg...</td>\n",
       "      <td>Benoît Debie</td>\n",
       "      <td>Douglas Crise</td>\n",
       "      <td>['Skrillex', 'Cliff Martinez']</td>\n",
       "      <td>['Muse Productions', 'Annapurna Pictures', 'Di...</td>\n",
       "      <td>...</td>\n",
       "      <td>English</td>\n",
       "      <td>94.0</td>\n",
       "      <td>5000000.0</td>\n",
       "      <td>31700000.0</td>\n",
       "      <td>2012-09-04</td>\n",
       "      <td>5.3</td>\n",
       "      <td>63.0</td>\n",
       "      <td>67%</td>\n",
       "      <td>NaN</td>\n",
       "      <td>NaN</td>\n",
       "    </tr>\n",
       "    <tr>\n",
       "      <th>3</th>\n",
       "      <td>3</td>\n",
       "      <td>The Bling Ring</td>\n",
       "      <td>Sofia Coppola</td>\n",
       "      <td>NaN</td>\n",
       "      <td>['Roman Coppola', 'Sofia Coppola', 'Youree Hen...</td>\n",
       "      <td>['Israel Broussard', 'Katie Chang', 'Taissa Fa...</td>\n",
       "      <td>['Harris Savides', 'Christopher Blauvelt']</td>\n",
       "      <td>Sarah Flack</td>\n",
       "      <td>['Brian Reitzell', 'Daniel Lopatin']</td>\n",
       "      <td>['American Zoetrope', 'NALA Films', 'Pathé Dis...</td>\n",
       "      <td>...</td>\n",
       "      <td>English</td>\n",
       "      <td>90.0</td>\n",
       "      <td>8200000.0</td>\n",
       "      <td>20000000.0</td>\n",
       "      <td>2013-05-16</td>\n",
       "      <td>5.6</td>\n",
       "      <td>66.0</td>\n",
       "      <td>60%</td>\n",
       "      <td>Sofia Coppola</td>\n",
       "      <td>['\"The Suspects Wore Louboutins\"', 'by', 'Nanc...</td>\n",
       "    </tr>\n",
       "    <tr>\n",
       "      <th>4</th>\n",
       "      <td>4</td>\n",
       "      <td>The Spectacular Now</td>\n",
       "      <td>James Ponsoldt</td>\n",
       "      <td>NaN</td>\n",
       "      <td>['Tom McNulty', 'Shawn Levy', 'Michelle Krumm'...</td>\n",
       "      <td>['Miles Teller', 'Shailene Woodley', 'Brie Lar...</td>\n",
       "      <td>Jess Hall</td>\n",
       "      <td>Darrin Navarro</td>\n",
       "      <td>Rob Simonsen</td>\n",
       "      <td>['Andrew Lauren Productions', '21 Laps Enterta...</td>\n",
       "      <td>...</td>\n",
       "      <td>English</td>\n",
       "      <td>95.0</td>\n",
       "      <td>2500000.0</td>\n",
       "      <td>6900000.0</td>\n",
       "      <td>2013-01-18</td>\n",
       "      <td>7.1</td>\n",
       "      <td>82.0</td>\n",
       "      <td>91%</td>\n",
       "      <td>['Scott Neustadter', 'Michael H. Weber']</td>\n",
       "      <td>['The Spectacular Now', 'by Tim Tharp']</td>\n",
       "    </tr>\n",
       "  </tbody>\n",
       "</table>\n",
       "<p>5 rows × 22 columns</p>\n",
       "</div>"
      ],
      "text/plain": [
       "   Unnamed: 0                                          title     Directed by  \\\n",
       "0           0  A Glimpse Inside the Mind of Charles Swan III   Roman Coppola   \n",
       "1           1                                  Ginger & Rosa    Sally Potter   \n",
       "2           2                                Spring Breakers  Harmony Korine   \n",
       "3           3                                 The Bling Ring   Sofia Coppola   \n",
       "4           4                            The Spectacular Now  James Ponsoldt   \n",
       "\n",
       "       Written by                                        Produced by  \\\n",
       "0   Roman Coppola                 ['Roman Coppola', 'Youree Henley']   \n",
       "1    Sally Potter          ['Christopher Sheppard', 'Andrew Litvin']   \n",
       "2  Harmony Korine  ['Chris Hanley', 'Jordan Gertner', 'David Zand...   \n",
       "3             NaN  ['Roman Coppola', 'Sofia Coppola', 'Youree Hen...   \n",
       "4             NaN  ['Tom McNulty', 'Shawn Levy', 'Michelle Krumm'...   \n",
       "\n",
       "                                            Starring  \\\n",
       "0  ['Charlie Sheen', 'Katheryn Winnick', 'Bill Mu...   \n",
       "1  ['Elle Fanning', 'Alice Englert', 'Alessandro ...   \n",
       "2  ['James Franco', 'Selena Gomez', 'Vanessa Hudg...   \n",
       "3  ['Israel Broussard', 'Katie Chang', 'Taissa Fa...   \n",
       "4  ['Miles Teller', 'Shailene Woodley', 'Brie Lar...   \n",
       "\n",
       "                               Cinematography       Edited by  \\\n",
       "0                                   Nick Beal  Robert Schafer   \n",
       "1                                 Robbie Ryan     Anders Refn   \n",
       "2                                Benoît Debie   Douglas Crise   \n",
       "3  ['Harris Savides', 'Christopher Blauvelt']     Sarah Flack   \n",
       "4                                   Jess Hall  Darrin Navarro   \n",
       "\n",
       "                               Music by  \\\n",
       "0         ['Liam Hayes', 'Roger Neill']   \n",
       "1                                   NaN   \n",
       "2        ['Skrillex', 'Cliff Martinez']   \n",
       "3  ['Brian Reitzell', 'Daniel Lopatin']   \n",
       "4                          Rob Simonsen   \n",
       "\n",
       "                                Production companies  ... Language  \\\n",
       "0      ['American Zoetrope', 'The Directors Bureau']  ...  English   \n",
       "1  ['British Film Institute', 'BBC Films', 'Adven...  ...  English   \n",
       "2  ['Muse Productions', 'Annapurna Pictures', 'Di...  ...  English   \n",
       "3  ['American Zoetrope', 'NALA Films', 'Pathé Dis...  ...  English   \n",
       "4  ['Andrew Lauren Productions', '21 Laps Enterta...  ...  English   \n",
       "\n",
       "  Running time (int) Budget (float)  Box office (float)  \\\n",
       "0               86.0            NaN            210565.0   \n",
       "1               90.0            NaN           1700000.0   \n",
       "2               94.0      5000000.0          31700000.0   \n",
       "3               90.0      8200000.0          20000000.0   \n",
       "4               95.0      2500000.0           6900000.0   \n",
       "\n",
       "   Release dates (datetime)  imdb metascore  rotten_tomatoes  \\\n",
       "0                2012-11-15   4.6      28.0              16%   \n",
       "1                2012-09-07   6.2      69.0              78%   \n",
       "2                2012-09-04   5.3      63.0              67%   \n",
       "3                2013-05-16   5.6      66.0              60%   \n",
       "4                2013-01-18   7.1      82.0              91%   \n",
       "\n",
       "                              Screenplay by  \\\n",
       "0                                       NaN   \n",
       "1                                       NaN   \n",
       "2                                       NaN   \n",
       "3                             Sofia Coppola   \n",
       "4  ['Scott Neustadter', 'Michael H. Weber']   \n",
       "\n",
       "                                            Based on  \n",
       "0                                                NaN  \n",
       "1                                                NaN  \n",
       "2                                                NaN  \n",
       "3  ['\"The Suspects Wore Louboutins\"', 'by', 'Nanc...  \n",
       "4            ['The Spectacular Now', 'by Tim Tharp']  \n",
       "\n",
       "[5 rows x 22 columns]"
      ]
     },
     "execution_count": 110,
     "metadata": {},
     "output_type": "execute_result"
    }
   ],
   "source": [
    "A24=pd.read_csv('/Users/jonathanflores/Documents/Flatiron/Gitted_project/A24.csv')\n",
    "A24.head()"
   ]
  },
  {
   "cell_type": "markdown",
   "metadata": {},
   "source": [
    "# Data Cleaning "
   ]
  },
  {
   "cell_type": "markdown",
   "metadata": {},
   "source": [
    "In order to make sense of large dataframes there must be some cleaning procedures to occur. An issue i imediatly ran into wth df1 is the missing id's from genre's"
   ]
  },
  {
   "cell_type": "markdown",
   "metadata": {},
   "source": [
    "# Working with data set 1, Genre favoribility(df1)"
   ]
  },
  {
   "cell_type": "code",
   "execution_count": 72,
   "metadata": {},
   "outputs": [],
   "source": [
    "#a dictionary was created from the website \n",
    "genre_dict = \\\n",
    "{'Action'        :  28,\n",
    "'Adventure'     :  12 ,\n",
    "'Animation'     :  16,\n",
    "'Comedy'         : 35,\n",
    "'Crime'          : 80,\n",
    "'Documentary'    : 99,\n",
    "'Drama'          : 18,\n",
    "'Family'         : 10751,\n",
    "'Fantasy'        : 14,\n",
    "'History'        : 36,\n",
    "'Horror'         : 27,\n",
    "'Music'          : 10402,\n",
    "'Mystery'        : 9648,\n",
    "'Romance'        : 10749,\n",
    "'Science Fiction' : 878,\n",
    "'TV Movie'      : 10770,\n",
    "'Thriller'       : 53,\n",
    "'War'            : 10752,\n",
    "'Western'        : 37}"
   ]
  },
  {
   "cell_type": "markdown",
   "metadata": {},
   "source": [
    "by binding the dicionary to this array we are now able to bind the dictionray to the dataframe"
   ]
  },
  {
   "cell_type": "code",
   "execution_count": 73,
   "metadata": {},
   "outputs": [
    {
     "data": {
      "text/plain": [
       "{28: 'Action',\n",
       " 12: 'Adventure',\n",
       " 16: 'Animation',\n",
       " 35: 'Comedy',\n",
       " 80: 'Crime',\n",
       " 99: 'Documentary',\n",
       " 18: 'Drama',\n",
       " 10751: 'Family',\n",
       " 14: 'Fantasy',\n",
       " 36: 'History',\n",
       " 27: 'Horror',\n",
       " 10402: 'Music',\n",
       " 9648: 'Mystery',\n",
       " 10749: 'Romance',\n",
       " 878: 'Science Fiction',\n",
       " 10770: 'TV Movie',\n",
       " 53: 'Thriller',\n",
       " 10752: 'War',\n",
       " 37: 'Western'}"
      ]
     },
     "execution_count": 73,
     "metadata": {},
     "output_type": "execute_result"
    }
   ],
   "source": [
    "genre_dict = {v:k for k,v in genre_dict.items()}\n",
    "genre_dict"
   ]
  },
  {
   "cell_type": "markdown",
   "metadata": {},
   "source": [
    "now we want to replace the brackets and take away any commas in order for it to pass out as an operable string"
   ]
  },
  {
   "cell_type": "code",
   "execution_count": 74,
   "metadata": {},
   "outputs": [],
   "source": [
    "df1['genre_ids'] =df1['genre_ids'].apply(lambda x: x.replace('[', ''))\n",
    "df1['genre_ids'] =df1['genre_ids'].apply(lambda x: x.replace(']', ''))\n"
   ]
  },
  {
   "cell_type": "code",
   "execution_count": 75,
   "metadata": {},
   "outputs": [],
   "source": [
    "df1['genre_ids'] = df1['genre_ids'].apply(lambda x: x.split(','))\n",
    "#after doing so we are now able to insert the dictionary into the dataframe and create a new column using the .apply lambda function"
   ]
  },
  {
   "cell_type": "code",
   "execution_count": 60,
   "metadata": {},
   "outputs": [],
   "source": [
    "df1['genre_ids'] = df1['genre_ids'].apply(lambda x: [i for i in x if i])"
   ]
  },
  {
   "cell_type": "code",
   "execution_count": 61,
   "metadata": {},
   "outputs": [],
   "source": [
    "df1['genre_ids'] = df1['genre_ids'].apply(lambda x: [int(i) for i in x])"
   ]
  },
  {
   "cell_type": "code",
   "execution_count": 62,
   "metadata": {},
   "outputs": [
    {
     "data": {
      "text/plain": [
       "0                   [Adventure, Fantasy, Family]\n",
       "1        [Fantasy, Adventure, Animation, Family]\n",
       "2           [Adventure, Action, Science Fiction]\n",
       "3                    [Animation, Comedy, Family]\n",
       "4           [Action, Science Fiction, Adventure]\n",
       "                          ...                   \n",
       "26512                            [Horror, Drama]\n",
       "26513                          [Drama, Thriller]\n",
       "26514               [Fantasy, Action, Adventure]\n",
       "26515                [Family, Adventure, Action]\n",
       "26516                         [Thriller, Horror]\n",
       "Name: genre_ids, Length: 26517, dtype: object"
      ]
     },
     "execution_count": 62,
     "metadata": {},
     "output_type": "execute_result"
    }
   ],
   "source": [
    "df1['genre_ids'].apply(lambda x: [genre_dict[i] for i in x])"
   ]
  },
  {
   "cell_type": "code",
   "execution_count": 66,
   "metadata": {},
   "outputs": [],
   "source": [
    "df1['genres']= df1['genre_ids'].apply(lambda x: [genre_dict[i] for i in x])"
   ]
  },
  {
   "cell_type": "markdown",
   "metadata": {},
   "source": [
    "After doing all of this work we now have a working dataframe to derive which genre we can focus on.\n",
    "\n",
    "Which after some more cleaning and sorting we can use this violin plot to determine which genres are popular among critics."
   ]
  },
  {
   "cell_type": "markdown",
   "metadata": {},
   "source": [
    "# Working with data set 2, Box office Profit Margin(df2)"
   ]
  },
  {
   "cell_type": "markdown",
   "metadata": {},
   "source": [
    "With Data set 2 the main issues were replacing dollar signs, commas and formating columns to float types in order to find the profit margin of the Highest grossing movies of all time."
   ]
  },
  {
   "cell_type": "code",
   "execution_count": 98,
   "metadata": {},
   "outputs": [],
   "source": [
    "df2['production_budget'] =df2['production_budget'].apply(lambda x: x.replace('$',' '))\n",
    "df2['domestic_gross'] =df2['domestic_gross'].apply(lambda x: x.replace('$',' '))\n",
    "df2['worldwide_gross'] =df2['worldwide_gross'].apply(lambda x: x.replace('$',' '))\n",
    "df2['production_budget'] =df2['production_budget'].apply(lambda x: x.replace(',',' '))\n",
    "df2['domestic_gross'] =df2['domestic_gross'].apply(lambda x: x.replace(',',' '))\n",
    "df2['worldwide_gross'] =df2['worldwide_gross'].apply(lambda x: x.replace(',',' '))\n"
   ]
  },
  {
   "cell_type": "code",
   "execution_count": 99,
   "metadata": {},
   "outputs": [],
   "source": [
    "df2['budget']= df2['production_budget'].str.replace(' ', '')\n",
    "df2['Domesticgross']=df2['domestic_gross'].str.replace(' ', '')\n",
    "df2['WorldWidegross']=df2['worldwide_gross'].str.replace(' ', '')"
   ]
  },
  {
   "cell_type": "markdown",
   "metadata": {},
   "source": [
    "Now we can do some division and finally get a new profit margin column, but before we do so we need to convert the columns budget and WorldWideGross to a float by using the .to_numeric function."
   ]
  },
  {
   "cell_type": "code",
   "execution_count": 100,
   "metadata": {},
   "outputs": [
    {
     "data": {
      "text/plain": [
       "id                    int64\n",
       "release_date         object\n",
       "movie                object\n",
       "production_budget    object\n",
       "domestic_gross       object\n",
       "worldwide_gross      object\n",
       "budget               object\n",
       "Domesticgross        object\n",
       "WorldWidegross       object\n",
       "dtype: object"
      ]
     },
     "execution_count": 100,
     "metadata": {},
     "output_type": "execute_result"
    }
   ],
   "source": [
    "df2.dtypes"
   ]
  },
  {
   "cell_type": "code",
   "execution_count": 104,
   "metadata": {},
   "outputs": [],
   "source": [
    "df2[\"budget\"] = pd.to_numeric(df[\"budget\"], downcast=\"float\")\n",
    "df2[\"WorldWidegross\"] = pd.to_numeric(df[\"WorldWidegross\"], downcast=\"float\")"
   ]
  },
  {
   "cell_type": "code",
   "execution_count": 105,
   "metadata": {},
   "outputs": [
    {
     "data": {
      "text/plain": [
       "id                     int64\n",
       "release_date          object\n",
       "movie                 object\n",
       "production_budget     object\n",
       "domestic_gross        object\n",
       "worldwide_gross       object\n",
       "budget               float64\n",
       "Domesticgross         object\n",
       "WorldWidegross       float64\n",
       "dtype: object"
      ]
     },
     "execution_count": 105,
     "metadata": {},
     "output_type": "execute_result"
    }
   ],
   "source": [
    "df2.dtypes"
   ]
  },
  {
   "cell_type": "code",
   "execution_count": 107,
   "metadata": {},
   "outputs": [
    {
     "data": {
      "text/html": [
       "<div>\n",
       "<style scoped>\n",
       "    .dataframe tbody tr th:only-of-type {\n",
       "        vertical-align: middle;\n",
       "    }\n",
       "\n",
       "    .dataframe tbody tr th {\n",
       "        vertical-align: top;\n",
       "    }\n",
       "\n",
       "    .dataframe thead th {\n",
       "        text-align: right;\n",
       "    }\n",
       "</style>\n",
       "<table border=\"1\" class=\"dataframe\">\n",
       "  <thead>\n",
       "    <tr style=\"text-align: right;\">\n",
       "      <th></th>\n",
       "      <th>id</th>\n",
       "      <th>release_date</th>\n",
       "      <th>movie</th>\n",
       "      <th>production_budget</th>\n",
       "      <th>domestic_gross</th>\n",
       "      <th>worldwide_gross</th>\n",
       "      <th>budget</th>\n",
       "      <th>Domesticgross</th>\n",
       "      <th>WorldWidegross</th>\n",
       "      <th>ProfitMargin</th>\n",
       "    </tr>\n",
       "  </thead>\n",
       "  <tbody>\n",
       "    <tr>\n",
       "      <th>0</th>\n",
       "      <td>1</td>\n",
       "      <td>Dec 18, 2009</td>\n",
       "      <td>Avatar</td>\n",
       "      <td>425 000 000</td>\n",
       "      <td>760 507 625</td>\n",
       "      <td>2 776 345 279</td>\n",
       "      <td>425000000.0</td>\n",
       "      <td>760507625</td>\n",
       "      <td>2.776345e+09</td>\n",
       "      <td>6.532577</td>\n",
       "    </tr>\n",
       "    <tr>\n",
       "      <th>1</th>\n",
       "      <td>2</td>\n",
       "      <td>May 20, 2011</td>\n",
       "      <td>Pirates of the Caribbean: On Stranger Tides</td>\n",
       "      <td>410 600 000</td>\n",
       "      <td>241 063 875</td>\n",
       "      <td>1 045 663 875</td>\n",
       "      <td>410600000.0</td>\n",
       "      <td>241063875</td>\n",
       "      <td>1.045664e+09</td>\n",
       "      <td>2.546673</td>\n",
       "    </tr>\n",
       "    <tr>\n",
       "      <th>2</th>\n",
       "      <td>3</td>\n",
       "      <td>Jun 7, 2019</td>\n",
       "      <td>Dark Phoenix</td>\n",
       "      <td>350 000 000</td>\n",
       "      <td>42 762 350</td>\n",
       "      <td>149 762 350</td>\n",
       "      <td>350000000.0</td>\n",
       "      <td>42762350</td>\n",
       "      <td>1.497624e+08</td>\n",
       "      <td>0.427892</td>\n",
       "    </tr>\n",
       "    <tr>\n",
       "      <th>3</th>\n",
       "      <td>4</td>\n",
       "      <td>May 1, 2015</td>\n",
       "      <td>Avengers: Age of Ultron</td>\n",
       "      <td>330 600 000</td>\n",
       "      <td>459 005 868</td>\n",
       "      <td>1 403 013 963</td>\n",
       "      <td>330600000.0</td>\n",
       "      <td>459005868</td>\n",
       "      <td>1.403014e+09</td>\n",
       "      <td>4.243841</td>\n",
       "    </tr>\n",
       "    <tr>\n",
       "      <th>4</th>\n",
       "      <td>5</td>\n",
       "      <td>Dec 15, 2017</td>\n",
       "      <td>Star Wars Ep. VIII: The Last Jedi</td>\n",
       "      <td>317 000 000</td>\n",
       "      <td>620 181 382</td>\n",
       "      <td>1 316 721 747</td>\n",
       "      <td>317000000.0</td>\n",
       "      <td>620181382</td>\n",
       "      <td>1.316722e+09</td>\n",
       "      <td>4.153696</td>\n",
       "    </tr>\n",
       "  </tbody>\n",
       "</table>\n",
       "</div>"
      ],
      "text/plain": [
       "   id  release_date                                        movie  \\\n",
       "0   1  Dec 18, 2009                                       Avatar   \n",
       "1   2  May 20, 2011  Pirates of the Caribbean: On Stranger Tides   \n",
       "2   3   Jun 7, 2019                                 Dark Phoenix   \n",
       "3   4   May 1, 2015                      Avengers: Age of Ultron   \n",
       "4   5  Dec 15, 2017            Star Wars Ep. VIII: The Last Jedi   \n",
       "\n",
       "  production_budget domestic_gross worldwide_gross       budget Domesticgross  \\\n",
       "0       425 000 000    760 507 625   2 776 345 279  425000000.0     760507625   \n",
       "1       410 600 000    241 063 875   1 045 663 875  410600000.0     241063875   \n",
       "2       350 000 000     42 762 350     149 762 350  350000000.0      42762350   \n",
       "3       330 600 000    459 005 868   1 403 013 963  330600000.0     459005868   \n",
       "4       317 000 000    620 181 382   1 316 721 747  317000000.0     620181382   \n",
       "\n",
       "   WorldWidegross  ProfitMargin  \n",
       "0    2.776345e+09      6.532577  \n",
       "1    1.045664e+09      2.546673  \n",
       "2    1.497624e+08      0.427892  \n",
       "3    1.403014e+09      4.243841  \n",
       "4    1.316722e+09      4.153696  "
      ]
     },
     "execution_count": 107,
     "metadata": {},
     "output_type": "execute_result"
    }
   ],
   "source": [
    "df2[\"ProfitMargin\"] = df2[\"WorldWidegross\"]/df2[\"budget\"]\n",
    "df2.head()"
   ]
  },
  {
   "cell_type": "markdown",
   "metadata": {},
   "source": [
    "Now we can work on the A24 data set after web scraping and downloading the file using beautiful soup, threading operations, looping. The result was a csv file that after simlar operations above we were able to get df3"
   ]
  },
  {
   "cell_type": "markdown",
   "metadata": {},
   "source": [
    "after doing similar operations as those above we were able to finally come up with the proposal for Microsoft to purchase A24"
   ]
  },
  {
   "cell_type": "code",
   "execution_count": 111,
   "metadata": {},
   "outputs": [],
   "source": [
    "#we dropped columns\n",
    "A24.drop(['Produced by', 'Starring', 'Cinematography','Edited by','Music by','Production companies'], axis=1)\n",
    "A25 = A24"
   ]
  },
  {
   "cell_type": "code",
   "execution_count": 112,
   "metadata": {},
   "outputs": [],
   "source": [
    "A26= A25.drop(['Release dates (datetime)','rotten_tomatoes','Screenplay by','Based on','Produced by','Starring','Cinematography','Edited by','Music by','Production companies','Language','Running time (int)','Country','Distributed by','Written by','Unnamed: 0'], axis=1)\n",
    "#we dropped even more columns"
   ]
  },
  {
   "cell_type": "markdown",
   "metadata": {},
   "source": [
    "Found A24's top performing movies and found the profit margin"
   ]
  },
  {
   "cell_type": "code",
   "execution_count": 114,
   "metadata": {},
   "outputs": [],
   "source": [
    "A26[\"ProfitMargin\"] = A26[\"Box office (float)\"]/A26[\"Budget (float)\"]"
   ]
  },
  {
   "cell_type": "code",
   "execution_count": 119,
   "metadata": {},
   "outputs": [
    {
     "data": {
      "text/html": [
       "<div>\n",
       "<style scoped>\n",
       "    .dataframe tbody tr th:only-of-type {\n",
       "        vertical-align: middle;\n",
       "    }\n",
       "\n",
       "    .dataframe tbody tr th {\n",
       "        vertical-align: top;\n",
       "    }\n",
       "\n",
       "    .dataframe thead th {\n",
       "        text-align: right;\n",
       "    }\n",
       "</style>\n",
       "<table border=\"1\" class=\"dataframe\">\n",
       "  <thead>\n",
       "    <tr style=\"text-align: right;\">\n",
       "      <th></th>\n",
       "      <th>title</th>\n",
       "      <th>Directed by</th>\n",
       "      <th>Budget (float)</th>\n",
       "      <th>Box office (float)</th>\n",
       "      <th>imdb</th>\n",
       "      <th>metascore</th>\n",
       "      <th>ProfitMargin</th>\n",
       "    </tr>\n",
       "  </thead>\n",
       "  <tbody>\n",
       "    <tr>\n",
       "      <th>2</th>\n",
       "      <td>Spring Breakers</td>\n",
       "      <td>Harmony Korine</td>\n",
       "      <td>5000000.0</td>\n",
       "      <td>31700000.0</td>\n",
       "      <td>5.3</td>\n",
       "      <td>63.0</td>\n",
       "      <td>6.340000e+08</td>\n",
       "    </tr>\n",
       "    <tr>\n",
       "      <th>3</th>\n",
       "      <td>The Bling Ring</td>\n",
       "      <td>Sofia Coppola</td>\n",
       "      <td>8200000.0</td>\n",
       "      <td>20000000.0</td>\n",
       "      <td>5.6</td>\n",
       "      <td>66.0</td>\n",
       "      <td>2.439024e+08</td>\n",
       "    </tr>\n",
       "    <tr>\n",
       "      <th>4</th>\n",
       "      <td>The Spectacular Now</td>\n",
       "      <td>James Ponsoldt</td>\n",
       "      <td>2500000.0</td>\n",
       "      <td>6900000.0</td>\n",
       "      <td>7.1</td>\n",
       "      <td>82.0</td>\n",
       "      <td>2.760000e+08</td>\n",
       "    </tr>\n",
       "    <tr>\n",
       "      <th>7</th>\n",
       "      <td>Locke</td>\n",
       "      <td>Steven Knight</td>\n",
       "      <td>2000000.0</td>\n",
       "      <td>5100000.0</td>\n",
       "      <td>7.1</td>\n",
       "      <td>81.0</td>\n",
       "      <td>2.550000e+08</td>\n",
       "    </tr>\n",
       "    <tr>\n",
       "      <th>8</th>\n",
       "      <td>Obvious Child</td>\n",
       "      <td>Gillian Robespierre</td>\n",
       "      <td>1000000.0</td>\n",
       "      <td>3300000.0</td>\n",
       "      <td>6.7</td>\n",
       "      <td>76.0</td>\n",
       "      <td>3.300000e+08</td>\n",
       "    </tr>\n",
       "    <tr>\n",
       "      <th>...</th>\n",
       "      <td>...</td>\n",
       "      <td>...</td>\n",
       "      <td>...</td>\n",
       "      <td>...</td>\n",
       "      <td>...</td>\n",
       "      <td>...</td>\n",
       "      <td>...</td>\n",
       "    </tr>\n",
       "    <tr>\n",
       "      <th>121</th>\n",
       "      <td>Pearl</td>\n",
       "      <td>Ti West</td>\n",
       "      <td>1000000.0</td>\n",
       "      <td>9400000.0</td>\n",
       "      <td>7.0</td>\n",
       "      <td>73.0</td>\n",
       "      <td>9.400000e+08</td>\n",
       "    </tr>\n",
       "    <tr>\n",
       "      <th>122</th>\n",
       "      <td>X</td>\n",
       "      <td>Ti West</td>\n",
       "      <td>1000000.0</td>\n",
       "      <td>15100000.0</td>\n",
       "      <td>6.6</td>\n",
       "      <td>79.0</td>\n",
       "      <td>1.510000e+09</td>\n",
       "    </tr>\n",
       "    <tr>\n",
       "      <th>128</th>\n",
       "      <td>The Inspection</td>\n",
       "      <td>Elegance Bratton</td>\n",
       "      <td>3000000.0</td>\n",
       "      <td>385627.0</td>\n",
       "      <td>7.1</td>\n",
       "      <td>73.0</td>\n",
       "      <td>1.285423e+07</td>\n",
       "    </tr>\n",
       "    <tr>\n",
       "      <th>129</th>\n",
       "      <td>White Noise</td>\n",
       "      <td>Noah Baumbach</td>\n",
       "      <td>100000000.0</td>\n",
       "      <td>34818.0</td>\n",
       "      <td>5.5</td>\n",
       "      <td>30.0</td>\n",
       "      <td>3.481800e+04</td>\n",
       "    </tr>\n",
       "    <tr>\n",
       "      <th>131</th>\n",
       "      <td>The Whale</td>\n",
       "      <td>Darren Aronofsky</td>\n",
       "      <td>3000000.0</td>\n",
       "      <td>17200000.0</td>\n",
       "      <td>8.1</td>\n",
       "      <td>60.0</td>\n",
       "      <td>5.733333e+08</td>\n",
       "    </tr>\n",
       "  </tbody>\n",
       "</table>\n",
       "<p>65 rows × 7 columns</p>\n",
       "</div>"
      ],
      "text/plain": [
       "                   title          Directed by  Budget (float)  \\\n",
       "2        Spring Breakers       Harmony Korine       5000000.0   \n",
       "3         The Bling Ring        Sofia Coppola       8200000.0   \n",
       "4    The Spectacular Now       James Ponsoldt       2500000.0   \n",
       "7                  Locke        Steven Knight       2000000.0   \n",
       "8          Obvious Child  Gillian Robespierre       1000000.0   \n",
       "..                   ...                  ...             ...   \n",
       "121                Pearl              Ti West       1000000.0   \n",
       "122                    X              Ti West       1000000.0   \n",
       "128       The Inspection     Elegance Bratton       3000000.0   \n",
       "129          White Noise        Noah Baumbach     100000000.0   \n",
       "131            The Whale     Darren Aronofsky       3000000.0   \n",
       "\n",
       "     Box office (float)  imdb  metascore  ProfitMargin  \n",
       "2            31700000.0   5.3       63.0  6.340000e+08  \n",
       "3            20000000.0   5.6       66.0  2.439024e+08  \n",
       "4             6900000.0   7.1       82.0  2.760000e+08  \n",
       "7             5100000.0   7.1       81.0  2.550000e+08  \n",
       "8             3300000.0   6.7       76.0  3.300000e+08  \n",
       "..                  ...   ...        ...           ...  \n",
       "121           9400000.0   7.0       73.0  9.400000e+08  \n",
       "122          15100000.0   6.6       79.0  1.510000e+09  \n",
       "128            385627.0   7.1       73.0  1.285423e+07  \n",
       "129             34818.0   5.5       30.0  3.481800e+04  \n",
       "131          17200000.0   8.1       60.0  5.733333e+08  \n",
       "\n",
       "[65 rows x 7 columns]"
      ]
     },
     "execution_count": 119,
     "metadata": {},
     "output_type": "execute_result"
    }
   ],
   "source": []
  },
  {
   "cell_type": "code",
   "execution_count": 130,
   "metadata": {},
   "outputs": [],
   "source": [
    "A26['ProfitMargin'] = A26['ProfitMargin'].apply(lambda x: x*100)"
   ]
  },
  {
   "cell_type": "code",
   "execution_count": 131,
   "metadata": {},
   "outputs": [],
   "source": [
    "A27= A26.dropna()"
   ]
  },
  {
   "cell_type": "code",
   "execution_count": 132,
   "metadata": {},
   "outputs": [
    {
     "data": {
      "text/html": [
       "<div>\n",
       "<style scoped>\n",
       "    .dataframe tbody tr th:only-of-type {\n",
       "        vertical-align: middle;\n",
       "    }\n",
       "\n",
       "    .dataframe tbody tr th {\n",
       "        vertical-align: top;\n",
       "    }\n",
       "\n",
       "    .dataframe thead th {\n",
       "        text-align: right;\n",
       "    }\n",
       "</style>\n",
       "<table border=\"1\" class=\"dataframe\">\n",
       "  <thead>\n",
       "    <tr style=\"text-align: right;\">\n",
       "      <th></th>\n",
       "      <th>title</th>\n",
       "      <th>Directed by</th>\n",
       "      <th>Budget (float)</th>\n",
       "      <th>Box office (float)</th>\n",
       "      <th>imdb</th>\n",
       "      <th>metascore</th>\n",
       "      <th>ProfitMargin</th>\n",
       "    </tr>\n",
       "  </thead>\n",
       "  <tbody>\n",
       "    <tr>\n",
       "      <th>2</th>\n",
       "      <td>Spring Breakers</td>\n",
       "      <td>Harmony Korine</td>\n",
       "      <td>5000000.0</td>\n",
       "      <td>31700000.0</td>\n",
       "      <td>5.3</td>\n",
       "      <td>63.0</td>\n",
       "      <td>6.340000e+18</td>\n",
       "    </tr>\n",
       "    <tr>\n",
       "      <th>3</th>\n",
       "      <td>The Bling Ring</td>\n",
       "      <td>Sofia Coppola</td>\n",
       "      <td>8200000.0</td>\n",
       "      <td>20000000.0</td>\n",
       "      <td>5.6</td>\n",
       "      <td>66.0</td>\n",
       "      <td>2.439024e+18</td>\n",
       "    </tr>\n",
       "    <tr>\n",
       "      <th>4</th>\n",
       "      <td>The Spectacular Now</td>\n",
       "      <td>James Ponsoldt</td>\n",
       "      <td>2500000.0</td>\n",
       "      <td>6900000.0</td>\n",
       "      <td>7.1</td>\n",
       "      <td>82.0</td>\n",
       "      <td>2.760000e+18</td>\n",
       "    </tr>\n",
       "    <tr>\n",
       "      <th>7</th>\n",
       "      <td>Locke</td>\n",
       "      <td>Steven Knight</td>\n",
       "      <td>2000000.0</td>\n",
       "      <td>5100000.0</td>\n",
       "      <td>7.1</td>\n",
       "      <td>81.0</td>\n",
       "      <td>2.550000e+18</td>\n",
       "    </tr>\n",
       "    <tr>\n",
       "      <th>8</th>\n",
       "      <td>Obvious Child</td>\n",
       "      <td>Gillian Robespierre</td>\n",
       "      <td>1000000.0</td>\n",
       "      <td>3300000.0</td>\n",
       "      <td>6.7</td>\n",
       "      <td>76.0</td>\n",
       "      <td>3.300000e+18</td>\n",
       "    </tr>\n",
       "    <tr>\n",
       "      <th>...</th>\n",
       "      <td>...</td>\n",
       "      <td>...</td>\n",
       "      <td>...</td>\n",
       "      <td>...</td>\n",
       "      <td>...</td>\n",
       "      <td>...</td>\n",
       "      <td>...</td>\n",
       "    </tr>\n",
       "    <tr>\n",
       "      <th>121</th>\n",
       "      <td>Pearl</td>\n",
       "      <td>Ti West</td>\n",
       "      <td>1000000.0</td>\n",
       "      <td>9400000.0</td>\n",
       "      <td>7.0</td>\n",
       "      <td>73.0</td>\n",
       "      <td>9.400000e+18</td>\n",
       "    </tr>\n",
       "    <tr>\n",
       "      <th>122</th>\n",
       "      <td>X</td>\n",
       "      <td>Ti West</td>\n",
       "      <td>1000000.0</td>\n",
       "      <td>15100000.0</td>\n",
       "      <td>6.6</td>\n",
       "      <td>79.0</td>\n",
       "      <td>1.510000e+19</td>\n",
       "    </tr>\n",
       "    <tr>\n",
       "      <th>128</th>\n",
       "      <td>The Inspection</td>\n",
       "      <td>Elegance Bratton</td>\n",
       "      <td>3000000.0</td>\n",
       "      <td>385627.0</td>\n",
       "      <td>7.1</td>\n",
       "      <td>73.0</td>\n",
       "      <td>1.285423e+17</td>\n",
       "    </tr>\n",
       "    <tr>\n",
       "      <th>129</th>\n",
       "      <td>White Noise</td>\n",
       "      <td>Noah Baumbach</td>\n",
       "      <td>100000000.0</td>\n",
       "      <td>34818.0</td>\n",
       "      <td>5.5</td>\n",
       "      <td>30.0</td>\n",
       "      <td>3.481800e+14</td>\n",
       "    </tr>\n",
       "    <tr>\n",
       "      <th>131</th>\n",
       "      <td>The Whale</td>\n",
       "      <td>Darren Aronofsky</td>\n",
       "      <td>3000000.0</td>\n",
       "      <td>17200000.0</td>\n",
       "      <td>8.1</td>\n",
       "      <td>60.0</td>\n",
       "      <td>5.733333e+18</td>\n",
       "    </tr>\n",
       "  </tbody>\n",
       "</table>\n",
       "<p>65 rows × 7 columns</p>\n",
       "</div>"
      ],
      "text/plain": [
       "                   title          Directed by  Budget (float)  \\\n",
       "2        Spring Breakers       Harmony Korine       5000000.0   \n",
       "3         The Bling Ring        Sofia Coppola       8200000.0   \n",
       "4    The Spectacular Now       James Ponsoldt       2500000.0   \n",
       "7                  Locke        Steven Knight       2000000.0   \n",
       "8          Obvious Child  Gillian Robespierre       1000000.0   \n",
       "..                   ...                  ...             ...   \n",
       "121                Pearl              Ti West       1000000.0   \n",
       "122                    X              Ti West       1000000.0   \n",
       "128       The Inspection     Elegance Bratton       3000000.0   \n",
       "129          White Noise        Noah Baumbach     100000000.0   \n",
       "131            The Whale     Darren Aronofsky       3000000.0   \n",
       "\n",
       "     Box office (float)  imdb  metascore  ProfitMargin  \n",
       "2            31700000.0   5.3       63.0  6.340000e+18  \n",
       "3            20000000.0   5.6       66.0  2.439024e+18  \n",
       "4             6900000.0   7.1       82.0  2.760000e+18  \n",
       "7             5100000.0   7.1       81.0  2.550000e+18  \n",
       "8             3300000.0   6.7       76.0  3.300000e+18  \n",
       "..                  ...   ...        ...           ...  \n",
       "121           9400000.0   7.0       73.0  9.400000e+18  \n",
       "122          15100000.0   6.6       79.0  1.510000e+19  \n",
       "128            385627.0   7.1       73.0  1.285423e+17  \n",
       "129             34818.0   5.5       30.0  3.481800e+14  \n",
       "131          17200000.0   8.1       60.0  5.733333e+18  \n",
       "\n",
       "[65 rows x 7 columns]"
      ]
     },
     "execution_count": 132,
     "metadata": {},
     "output_type": "execute_result"
    }
   ],
   "source": [
    "A27"
   ]
  },
  {
   "cell_type": "markdown",
   "metadata": {},
   "source": [
    "# Analysis"
   ]
  },
  {
   "cell_type": "markdown",
   "metadata": {},
   "source": [
    "By seeing the upcoming trends of Tech companies absorbing studios, we sought that Microsoft can do the same by aquiring A24 to have an immidiate impact in the market, not spend alot in budgets for movies and allocate little overhead resources to the project by leaving the culture of A24 in tact and continue leaving the creative decisions to directors as they perform best when allowed to. "
   ]
  },
  {
   "cell_type": "code",
   "execution_count": null,
   "metadata": {},
   "outputs": [],
   "source": []
  },
  {
   "cell_type": "code",
   "execution_count": null,
   "metadata": {},
   "outputs": [],
   "source": []
  },
  {
   "cell_type": "code",
   "execution_count": null,
   "metadata": {},
   "outputs": [],
   "source": []
  },
  {
   "cell_type": "code",
   "execution_count": null,
   "metadata": {},
   "outputs": [],
   "source": []
  },
  {
   "cell_type": "code",
   "execution_count": null,
   "metadata": {},
   "outputs": [],
   "source": []
  },
  {
   "cell_type": "code",
   "execution_count": null,
   "metadata": {},
   "outputs": [],
   "source": []
  },
  {
   "cell_type": "code",
   "execution_count": null,
   "metadata": {},
   "outputs": [],
   "source": []
  },
  {
   "cell_type": "code",
   "execution_count": null,
   "metadata": {},
   "outputs": [],
   "source": []
  },
  {
   "cell_type": "code",
   "execution_count": null,
   "metadata": {},
   "outputs": [],
   "source": []
  }
 ],
 "metadata": {
  "kernelspec": {
   "display_name": "Python (datazone)",
   "language": "python",
   "name": "datazone"
  },
  "language_info": {
   "codemirror_mode": {
    "name": "ipython",
    "version": 3
   },
   "file_extension": ".py",
   "mimetype": "text/x-python",
   "name": "python",
   "nbconvert_exporter": "python",
   "pygments_lexer": "ipython3",
   "version": "3.8.16"
  }
 },
 "nbformat": 4,
 "nbformat_minor": 2
}
